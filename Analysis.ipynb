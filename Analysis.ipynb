{
 "cells": [
  {
   "cell_type": "markdown",
   "id": "59b6a8c2-511b-4cc3-bb3d-bfb3c603e2ce",
   "metadata": {},
   "source": [
    "# 2023 Southern Methodist University Hackathon"
   ]
  },
  {
   "cell_type": "markdown",
   "id": "aad2221b-0c24-497b-923c-2322234c2a7c",
   "metadata": {},
   "source": [
    "As part of the hackathon, we were given data from the 2023 world happiness report summary and were tasked with creating a compelling analysis within 24 hours. My group decided to combine this data with two additional datasets:\n",
    "* 2023 Economist Development Index - from Wikipedia\n",
    "* Age of Current government (as of 2023) - from Wikipedia"
   ]
  },
  {
   "cell_type": "markdown",
   "id": "b23755c8-5033-4834-a546-a2cc1ff24572",
   "metadata": {},
   "source": [
    "## Import Data and Libraries"
   ]
  },
  {
   "cell_type": "code",
   "execution_count": null,
   "id": "12984b90-408c-414b-a7e6-7bfa029dcf03",
   "metadata": {},
   "outputs": [],
   "source": [
    "import pandas as pd\n",
    "import geopandas\n",
    "import matplotlib.pyplot as plt\n",
    "import math\n",
    "import seaborn as sns\n",
    "import numpy as np\n",
    "from shapely.geometry import Polygon"
   ]
  },
  {
   "cell_type": "code",
   "execution_count": null,
   "id": "b99ea763-1fa6-447f-8b67-ef611e915096",
   "metadata": {},
   "outputs": [],
   "source": [
    "# Provided happiness summary, combined with age of government\n",
    "happ_2023_gov = pd.read_csv('WHR_2023_Age - Summary data for WHR_2023.csv')\n",
    "happ_2023_gov.head(3)"
   ]
  },
  {
   "cell_type": "code",
   "execution_count": null,
   "id": "8dc14f0f-120b-4ff6-9e82-bdf37de64466",
   "metadata": {},
   "outputs": [],
   "source": [
    "# Democracy index\n",
    "demo_ind = pd.read_csv('Democracy_Index.csv', encoding = 'unicode_escape')\n",
    "demo_ind['Country'] = demo_ind['Country'].str.replace('\\xa0', '')\n",
    "demo_ind.head(3)"
   ]
  },
  {
   "cell_type": "code",
   "execution_count": null,
   "id": "3df27e7c-f5ec-4606-ba09-3d88d57f89f4",
   "metadata": {},
   "outputs": [],
   "source": [
    "# Geopandas world shape file\n",
    "world = geopandas.read_file(geopandas.datasets.get_path('naturalearth_lowres'))\n",
    "world.head(3)"
   ]
  },
  {
   "cell_type": "markdown",
   "id": "3dff73f7-c979-4212-93c9-bcebbd05b8d5",
   "metadata": {},
   "source": [
    "## Merge data"
   ]
  },
  {
   "cell_type": "code",
   "execution_count": null,
   "id": "fd2427e4-b68b-4375-990c-b64416bf28a4",
   "metadata": {},
   "outputs": [],
   "source": [
    "happ_2023_gov_demo = pd.merge(happ_2023_gov, demo_ind, left_on='Code', right_on='Country Code', how='inner').drop(columns='Country Code')\n",
    "happ_2023_gov_demo.head(2)"
   ]
  },
  {
   "cell_type": "code",
   "execution_count": null,
   "id": "b7c75a1d-0eb2-473b-b0c9-9ff151edac5b",
   "metadata": {},
   "outputs": [],
   "source": [
    "happ_2023_gov_demo_geo = pd.merge(world, happ_2023_gov_demo, left_on='iso_a3', right_on='Code', how='inner')\n",
    "happ_2023_gov_demo_geo.head(1)"
   ]
  },
  {
   "cell_type": "code",
   "execution_count": null,
   "id": "507de815-7f66-4bf7-8677-f068e26f14d6",
   "metadata": {},
   "outputs": [],
   "source": [
    "# Find difference b/w happiness and democracy index\n",
    "happ_2023_gov_demo_geo['2022_happ_demo_diff'] = abs(happ_2023_gov_demo_geo['Ladder score'] - happ_2023_gov_demo_geo['2022'])\n",
    "#happ_2023_gov_demo_geo['2022_happ_demo_diff_div_cor'] = happ_2023_gov_demo_geo['2022_happ_demo_diff'] / happ_2023_gov_demo_geo['Perceptions of corruption']\n",
    "#happ_2023_gov_demo_geo['2022_happ_demo_diff_mul_cor'] = happ_2023_gov_demo_geo['2022_happ_demo_diff'] * happ_2023_gov_demo_geo['Perceptions of corruption']\n",
    "#happ_2023_gov_demo_geo['demo_mul_corr'] = happ_2023_gov_demo_geo['2022'] * happ_2023_gov_demo_geo['Perceptions of corruption']\n",
    "#happ_2023_gov_demo_geo['demo_div_corr'] = happ_2023_gov_demo_geo['2022'] / happ_2023_gov_demo_geo['Perceptions of corruption']"
   ]
  },
  {
   "cell_type": "code",
   "execution_count": null,
   "id": "0a67dbf6-e1a5-4711-9f43-0b4a7d8a34e0",
   "metadata": {},
   "outputs": [],
   "source": [
    "q1_age = happ_2023_gov_demo[happ_2023_gov_demo['Age of Government'] < 29]\n",
    "q2_age = happ_2023_gov_demo[(happ_2023_gov_demo['Age of Government'] >= 29) & (happ_2023_gov_demo['Age of Government'] < 36)]\n",
    "q3_age = happ_2023_gov_demo[(happ_2023_gov_demo['Age of Government'] >= 36) & (happ_2023_gov_demo['Age of Government'] < 63)]\n",
    "q4_age = happ_2023_gov_demo[(happ_2023_gov_demo['Age of Government'] >= 63)]"
   ]
  },
  {
   "cell_type": "markdown",
   "id": "081e6c6e-ec1c-403a-b9d3-d61dbc94a1e9",
   "metadata": {},
   "source": [
    "## Visualizations"
   ]
  },
  {
   "cell_type": "code",
   "execution_count": null,
   "id": "be07b577-13bd-4664-951c-26e6f71be348",
   "metadata": {},
   "outputs": [],
   "source": [
    "import matplotlib\n",
    "from matplotlib import rc\n",
    "matplotlib.rcParams['axes.facecolor'] = 'white'\n",
    "matplotlib.rcParams['axes.grid'] = True\n",
    "matplotlib.rcParams['savefig.transparent'] = True"
   ]
  },
  {
   "cell_type": "markdown",
   "id": "7c80a6bf-6b5b-4360-b9b6-a32aefb36a18",
   "metadata": {},
   "source": [
    "### Scatterplots - democracy, corruption, happiness"
   ]
  },
  {
   "cell_type": "code",
   "execution_count": null,
   "id": "1bb705c2-629a-4b2e-8fb9-560996b28feb",
   "metadata": {},
   "outputs": [],
   "source": [
    "fig, ax1 = plt.subplots(nrows=1, ncols=1, figsize=(6, 4), layout='constrained', sharey=True);\n",
    "sns.set_style('whitegrid')\n",
    "sns.set_palette(\"Greens\")\n",
    "sns.scatterplot(data=happ_2023_gov_demo, x='Perceptions of corruption', y='Ladder score', ax=ax1, color='seagreen',s=40).set(title='Impact of Corruption on Happiness', ylabel='Happiness Score', xlabel='Perception of Corruption');\n",
    "plt.savefig('scatter_combined.png',dpi=1200)"
   ]
  },
  {
   "cell_type": "code",
   "execution_count": null,
   "id": "d4fa0dc0-476a-4a59-8dad-b577fedbb49b",
   "metadata": {},
   "outputs": [],
   "source": [
    "fig, ax1 = plt.subplots(nrows=1, ncols=1, figsize=(6, 4), layout='constrained', sharey=True);\n",
    "sns.set_palette(\"Greens\")\n",
    "sns.scatterplot(data=happ_2023_gov_demo, x='Perceptions of corruption', y='2022', ax=ax1, color='seagreen',s=40).set(title='Impact of Corruption on Democracy', ylabel='Democracy', xlabel='Perception of Corruption');\n",
    "#sns.scatterplot(data=happ_2023_gov_demo, x='2022', y='Ladder score', ax=ax2, color='seagreen').set(title='Democracy', xlabel='Democracy Index');\n",
    "plt.savefig('scatter_combined_demo.png',dpi=1200)"
   ]
  },
  {
   "cell_type": "code",
   "execution_count": null,
   "id": "f7d6beee-8954-48a6-9d78-b405bc2c5bfe",
   "metadata": {},
   "outputs": [],
   "source": [
    "fig, (ax1,ax2) = plt.subplots(nrows=1, ncols=2, figsize=(12, 4), layout='constrained');\n",
    "sns.set_palette(\"Greens\")\n",
    "sns.scatterplot(data=happ_2023_gov_demo, x='Perceptions of corruption', y='2022', ax=ax1, color='seagreen',s=40).set(title='Impact of Corruption on Democracy', ylabel='Democracy', xlabel='Perception of Corruption');\n",
    "sns.scatterplot(data=happ_2023_gov_demo, x='Perceptions of corruption', y='Ladder score', ax=ax2, color='seagreen',s=40).set(title='Impact of Corruption on Happiness', ylabel='Happiness', xlabel='Perception of Corruption');\n",
    "plt.savefig('scatter_combined_demo_comb.png',dpi=1200)"
   ]
  },
  {
   "cell_type": "markdown",
   "id": "86917a0d-7bd1-4d2b-a9aa-32caaed0118e",
   "metadata": {},
   "source": [
    "### Regime Type"
   ]
  },
  {
   "cell_type": "code",
   "execution_count": null,
   "id": "176ec6cc-9b1d-4346-8f36-4f790bba2b74",
   "metadata": {},
   "outputs": [],
   "source": [
    "fig, ax = plt.subplots(nrows=1, ncols=1, figsize=(6, 4), layout='constrained');\n",
    "sns.set_palette(\"Greens\")\n",
    "sns.violinplot(data=happ_2023_gov_demo, x='Regime Type', y='Ladder score', ax=ax,\n",
    "              order=['Authoritarian', 'Hybrid regime', 'Flawed democracy', 'Full democracy']).set(title='Happiness by Regime Type',\n",
    "                                                                                                 ylabel='Happiness Score');\n",
    "plt.savefig('violin_plot.png',dpi=1200)"
   ]
  },
  {
   "cell_type": "markdown",
   "id": "bb346a21-08b6-46a8-8090-e957d9718003",
   "metadata": {},
   "source": [
    "### Democracy/Corruption Alignment"
   ]
  },
  {
   "cell_type": "code",
   "execution_count": null,
   "id": "38515afd-2a06-4726-8943-6561c1cd50b5",
   "metadata": {},
   "outputs": [],
   "source": [
    "fig, ax1 = plt.subplots(nrows=1, ncols=1, figsize=(6, 4), layout='constrained', sharey=True);\n",
    "\n",
    "sns.set_palette(\"Greens\")\n",
    "plt.axvline(x=0.5, c='black')\n",
    "plt.axhline(y=5, c='black')\n",
    "sns.scatterplot(data=happ_2023_gov_demo, x='Perceptions of corruption', y='2022', ax=ax1, \n",
    "                color='seagreen',s=40, hue='Ladder score', palette='mako').set(title='Impact of Corruption/Democracy Alignment on Happiness', ylabel='Democracy', \n",
    "                                           xlabel='Perception of Corruption');\n",
    "ax1.set_xlim(0,1)\n",
    "ax1.set_ylim(0,10)\n",
    "ax1.legend(loc='center left', bbox_to_anchor=(1., 0.5), ncol=1, title='Happiness')\n",
    "\n",
    "plt.savefig('alignment.png',dpi=1200)"
   ]
  },
  {
   "cell_type": "markdown",
   "id": "5011dc5c-cd7b-4a4b-9c06-0efb952bbd2a",
   "metadata": {},
   "source": [
    "### Mapping"
   ]
  },
  {
   "cell_type": "code",
   "execution_count": null,
   "id": "d308bd6a-ee35-4f0e-ba2e-df907c360c85",
   "metadata": {},
   "outputs": [],
   "source": [
    "# Find difference between happiness score and democracy score\n",
    "happ_2023_gov_demo_geo['hap_dem_diff'] = happ_2023_gov_demo_geo['Ladder score'] - happ_2023_gov_demo_geo['2022']"
   ]
  },
  {
   "cell_type": "code",
   "execution_count": null,
   "id": "d81e9d34-b156-41a0-8d06-d73d45467600",
   "metadata": {},
   "outputs": [],
   "source": [
    "happ_2023_gov_demo_geo['hap_dem_diff_abs']=abs(happ_2023_gov_demo_geo['hap_dem_diff'])\n",
    "fig, ax = plt.subplots(nrows=1, ncols=1, figsize=(15, 5), layout='constrained')\n",
    "happ_2023_gov_demo_geo.plot('hap_dem_diff_abs', legend=True, ax=ax, cmap='mako');\n",
    "ax.set_axis_off();\n",
    "ax.set_title('Difference Between Happiness and Democracy', fontsize=20, loc='left');\n",
    "plt.savefig('happ_dem_diff.png', dpi=1200)"
   ]
  },
  {
   "cell_type": "code",
   "execution_count": null,
   "id": "c5900583-d2ef-4cc6-ac46-adc1d3f91609",
   "metadata": {},
   "outputs": [],
   "source": [
    "al_type = ['High Democracy, High Corruption', 'High Democracy, Low Corruption', 'Low Democracy, High Corruption']\n",
    "alignment = []\n",
    "col = []\n",
    "dem = happ_2023_gov_demo_geo['2022']\n",
    "cor = happ_2023_gov_demo_geo['Perceptions of corruption']\n",
    "for i in range(len(happ_2023_gov_demo_geo)):\n",
    "    dem_i = dem[i]\n",
    "    cor_i = cor[i]\n",
    "    if dem_i > 5:\n",
    "        if cor_i > 0.5:\n",
    "            alignment.append('High Democracy, High Corruption')\n",
    "            col.append('#3a305c')\n",
    "        else:\n",
    "            alignment.append('High Democracy, Low Corruption')\n",
    "            col.append('#51779e')\n",
    "    else:\n",
    "        if cor_i > 0.5:\n",
    "            alignment.append('Low Democracy, High Corruption')\n",
    "            col.append('#7dc3ae')\n",
    "        else:\n",
    "            alignment.append('Low Democracy, Low Corruption')\n",
    "            col.append('#7dc3ae')"
   ]
  },
  {
   "cell_type": "code",
   "execution_count": null,
   "id": "27183384-679e-4d5c-90f7-a3263d0ef8e7",
   "metadata": {},
   "outputs": [],
   "source": [
    "happ_2023_gov_demo_geo['alignment'] = alignment\n",
    "happ_2023_gov_demo_geo['col'] = col"
   ]
  },
  {
   "cell_type": "code",
   "execution_count": null,
   "id": "f4f5eb86-0e7d-4424-90c4-302124f393f6",
   "metadata": {},
   "outputs": [],
   "source": [
    "fig, ax = plt.subplots(nrows=1, ncols=1, figsize=(15, 5), layout='constrained')\n",
    "happ_2023_gov_demo_geo.plot( color=happ_2023_gov_demo_geo['col'],ax=ax, legend=True)\n",
    "fig.suptitle('Democracy and Corruption Alignment')\n",
    "ax.axis('off');\n",
    "plt.savefig('al_map.png', dpi=1200)"
   ]
  },
  {
   "cell_type": "markdown",
   "id": "2e5e074a-06dc-4095-86c5-1e6116fe62c5",
   "metadata": {},
   "source": [
    "### 3D Scatterplot - Happiness & Government"
   ]
  },
  {
   "cell_type": "code",
   "execution_count": null,
   "id": "fac4dc9f-6e02-4d7f-b30f-01ee64b7f011",
   "metadata": {},
   "outputs": [],
   "source": [
    "fig = plt.figure(figsize=(8,8), layout='constrained')\n",
    "ax=plt.axes(projection='3d')\n",
    "scatter=ax.scatter3D(happ_2023_gov_demo_geo['2022'],happ_2023_gov_demo_geo['Age of Government'],happ_2023_gov_demo_geo['Ladder score'],\n",
    "            c=happ_2023_gov_demo_geo['Perceptions of corruption'],s=40)\n",
    "handles, labels = scatter.legend_elements(prop=\"colors\", alpha=0.6)\n",
    "legend = ax.legend(handles, labels, loc=\"center right\", title=\"Corruption\",bbox_to_anchor=(1.35, 0.5))\n",
    "ax.set_xlabel('Democracy', fontsize=14)\n",
    "ax.set_ylabel('Age of Government', fontsize=14)\n",
    "ax.set_zlabel('Happiness', fontsize=14)\n",
    "ax.set_title('Happiness & Government Stability', fontsize=18)\n",
    "plt.savefig('three_d.png', dpi=1200)"
   ]
  },
  {
   "cell_type": "code",
   "execution_count": null,
   "id": "d0a2b7c9-997a-4bd5-83a6-34cd18285860",
   "metadata": {},
   "outputs": [],
   "source": []
  }
 ],
 "metadata": {
  "kernelspec": {
   "display_name": "Python 3 (ipykernel)",
   "language": "python",
   "name": "python3"
  },
  "language_info": {
   "codemirror_mode": {
    "name": "ipython",
    "version": 3
   },
   "file_extension": ".py",
   "mimetype": "text/x-python",
   "name": "python",
   "nbconvert_exporter": "python",
   "pygments_lexer": "ipython3",
   "version": "3.9.12"
  }
 },
 "nbformat": 4,
 "nbformat_minor": 5
}
